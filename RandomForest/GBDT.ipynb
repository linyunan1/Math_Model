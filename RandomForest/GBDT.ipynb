{
 "cells": [
  {
   "cell_type": "code",
   "execution_count": 12,
   "metadata": {},
   "outputs": [],
   "source": [
    "import numpy as np\n",
    "import pandas as pd\n",
    "import matplotlib.pyplot as plt\n",
    "import seaborn as sns\n",
    "from pylab import mpl\n",
    "# 正常显示中文标签\n",
    "mpl.rcParams['font.sans-serif'] = ['SimHei']\n",
    "# 正常显示负号\n",
    "mpl.rcParams['axes.unicode_minus'] = False\n",
    "# 显示所有列\n",
    "pd.set_option('display.max_columns', None)\n",
    "# 显示所有行\n",
    "pd.set_option('display.max_rows', None)"
   ]
  },
  {
   "cell_type": "code",
   "execution_count": 13,
   "metadata": {},
   "outputs": [
    {
     "data": {
      "text/plain": [
       "(325, 367)"
      ]
     },
     "execution_count": 13,
     "metadata": {},
     "output_type": "execute_result"
    }
   ],
   "source": [
    "DATA_PATH = \"附件一：325个样本数据.xlsx\"\n",
    "\n",
    "df = pd.read_excel(DATA_PATH)\n",
    "\n",
    "df.shape\n",
    "\n",
    "\n",
    "# then drop the missing value\n",
    "df = df.dropna(how = 'any')\n",
    "\n",
    "df.shape"
   ]
  },
  {
   "cell_type": "code",
   "execution_count": 19,
   "metadata": {},
   "outputs": [],
   "source": [
    "import pandas as pd\n",
    "import graphviz\n",
    "from sklearn import tree\n",
    "from sklearn.model_selection import train_test_split\n",
    "\n",
    "#将数据划分为标签和特征\n",
    "X = df.drop(['辛烷值RON'],axis = 1)\n",
    "X = X.iloc[:,0:35]\n",
    "y = df['辛烷值RON'].astype('int')"
   ]
  },
  {
   "cell_type": "code",
   "execution_count": 20,
   "metadata": {},
   "outputs": [],
   "source": [
    "# 分训练集和测试集\n",
    "Xtrain, Xtest, Ytrain, Ytest = train_test_split(X,y,test_size=0.3)\n"
   ]
  },
  {
   "cell_type": "code",
   "execution_count": null,
   "metadata": {},
   "outputs": [],
   "source": [
    "from sklearn.ensemble import GradientBoostingClassifier\n",
    " \n",
    "# 模型训练，使用GBDT算法\n",
    "gbr = GradientBoostingClassifier(n_estimators=3000, max_depth=2, min_samples_split=2, learning_rate=0.1)\n",
    "gbr.fit(Xtrain, Ytrain)\n",
    "\n",
    "y_gbr = gbr.predict(Xtrain)\n",
    "y_gbr1 = gbr.predict(Xtest)\n",
    "acc_train = gbr.score(Xtrain, Ytrain)\n",
    "acc_test = gbr.score(Xtest, Ytest)\n",
    "print(acc_train)\n",
    "print(acc_test)"
   ]
  },
  {
   "cell_type": "code",
   "execution_count": null,
   "metadata": {},
   "outputs": [],
   "source": [
    "plt.figure()\n",
    "Ypredict = gbr.predict(Xtest)\n",
    "plt.plot(np.arange(98), Ytest, \"go-\", label=\"True value\")\n",
    "plt.plot(np.arange(98), Ypredict, \"ro-\", label=\"Predict value\")\n",
    "plt.title(\"True value And Predict value\")\n",
    "plt.legend()"
   ]
  },
  {
   "cell_type": "code",
   "execution_count": 26,
   "metadata": {},
   "outputs": [
    {
     "name": "stdout",
     "output_type": "stream",
     "text": [
      "GBDR：  0.7959183673469388\n",
      "Mean Absolute Error: 0.20408163265306123\n",
      "Mean Squared Error: 0.20408163265306123\n",
      "Root Mean Squared Error: 0.45175395145262565\n"
     ]
    }
   ],
   "source": [
    "from sklearn import metrics\n",
    "score = gbr.score(Xtest, Ytest)\n",
    "print('GBDR： ', score)\n",
    "print('Mean Absolute Error:', metrics.mean_absolute_error(Ytest, Ypredict))\n",
    "print('Mean Squared Error:', metrics.mean_squared_error(Ytest, Ypredict))\n",
    "print('Root Mean Squared Error:', np.sqrt(metrics.mean_squared_error(Ytest, Ypredict)))"
   ]
  },
  {
   "cell_type": "code",
   "execution_count": null,
   "metadata": {},
   "outputs": [],
   "source": []
  }
 ],
 "metadata": {
  "kernelspec": {
   "display_name": "Python 3",
   "language": "python",
   "name": "python3"
  },
  "language_info": {
   "codemirror_mode": {
    "name": "ipython",
    "version": 3
   },
   "file_extension": ".py",
   "mimetype": "text/x-python",
   "name": "python",
   "nbconvert_exporter": "python",
   "pygments_lexer": "ipython3",
   "version": "3.7.4"
  }
 },
 "nbformat": 4,
 "nbformat_minor": 2
}
